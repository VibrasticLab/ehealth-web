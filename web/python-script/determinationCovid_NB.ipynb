{
 "cells": [
  {
   "cell_type": "markdown",
   "id": "f7b60dc3",
   "metadata": {},
   "source": [
    "## Determine if the Cough are CoVid or Non-CoVid\n",
    "\n",
    "### Model trained by Rouf"
   ]
  },
  {
   "cell_type": "code",
   "execution_count": 1,
   "id": "9d240471",
   "metadata": {},
   "outputs": [],
   "source": [
    "import glob\n",
    "import os\n",
    "import librosa\n",
    "import numpy as np\n",
    "import ntpath\n",
    "\n",
    "from keras.models import Sequential\n",
    "from keras.layers import Dense, Activation, Flatten, LSTM, Flatten, InputLayer, Conv1D, MaxPooling1D\n",
    "from keras.layers import Dropout, BatchNormalization, Bidirectional\n",
    "from sklearn.model_selection import train_test_split  \n",
    "from tensorflow.keras.utils import plot_model,to_categorical\n",
    "\n",
    "import pandas as pd  \n",
    "import matplotlib.pyplot as plt\n",
    "from keras.callbacks import EarlyStopping, ModelCheckpoint\n",
    "\n",
    "import random as rn\n",
    "import tensorflow as tf\n",
    "\n",
    "import sys"
   ]
  },
  {
   "cell_type": "markdown",
   "id": "fe4f3537",
   "metadata": {},
   "source": [
    "### Extract Feature Function"
   ]
  },
  {
   "cell_type": "code",
   "execution_count": 2,
   "id": "2fd87922",
   "metadata": {},
   "outputs": [],
   "source": [
    "def extract_feature(file_name):\n",
    "    X, sample_rate = librosa.load(file_name)\n",
    "    mfcc = np.mean(librosa.feature.mfcc(y=X, sr=sample_rate, n_mfcc=40), axis=1)\n",
    "    return mfcc"
   ]
  },
  {
   "cell_type": "markdown",
   "id": "52cc1d91",
   "metadata": {},
   "source": [
    "#### Parse Audio Function"
   ]
  },
  {
   "cell_type": "code",
   "execution_count": 3,
   "id": "96a25b0b",
   "metadata": {},
   "outputs": [],
   "source": [
    "def parse_audio_files(filename):\n",
    "    features = []\n",
    "    extracted = extract_feature(filename)\n",
    "    features.append(extracted) \n",
    "    return np.array(features)"
   ]
  },
  {
   "cell_type": "markdown",
   "id": "85410389",
   "metadata": {},
   "source": [
    "#### Build LSTM Model Function"
   ]
  },
  {
   "cell_type": "code",
   "execution_count": 4,
   "id": "98b5b669",
   "metadata": {},
   "outputs": [],
   "source": [
    "def create_model():  \n",
    "    model = Sequential()\n",
    "    model.add(BatchNormalization(axis=-1, input_shape=(X.shape[1], X.shape[2]))) \n",
    "    model.add(LSTM(64, return_sequences=(True)))\n",
    "    model.add(LSTM(128, return_sequences=True))\n",
    "    model.add(LSTM(256))\n",
    "    model.add(Flatten())\n",
    "    model.add(Dropout(0.2))\n",
    "    model.add(Dense(1, activation='sigmoid'))\n",
    "    model.compile(loss='binary_crossentropy', metrics=['accuracy'])  \n",
    "    return model"
   ]
  },
  {
   "cell_type": "markdown",
   "id": "f3da6fc9",
   "metadata": {},
   "source": [
    "#### Load Audio Sample\n",
    "\n",
    "In server, the audio upload path is */usr/src/app/public/uploads/batuk/*\n",
    "\n",
    "But here using sample wav"
   ]
  },
  {
   "cell_type": "code",
   "execution_count": 5,
   "id": "430c0d87",
   "metadata": {},
   "outputs": [],
   "source": [
    "#X = parse_audio_files(\"out.wav\")\n",
    "X = parse_audio_files(\"covid_dataset/wav_normalized/0aa64689-c48a-421d-b353-c3496bad51ed.wav\")\n",
    "X = X.reshape((X.shape[0], 1, X.shape[1]))"
   ]
  },
  {
   "cell_type": "markdown",
   "id": "970cac0f",
   "metadata": {},
   "source": [
    "#### Load Pre-Trained Model"
   ]
  },
  {
   "cell_type": "code",
   "execution_count": 6,
   "id": "cd8a03ed",
   "metadata": {},
   "outputs": [
    {
     "name": "stderr",
     "output_type": "stream",
     "text": [
      "2022-01-29 10:34:25.373883: I tensorflow/core/platform/cpu_feature_guard.cc:142] This TensorFlow binary is optimized with oneAPI Deep Neural Network Library (oneDNN) to use the following CPU instructions in performance-critical operations:  SSE3 SSE4.1 SSE4.2 AVX\n",
      "To enable them in other operations, rebuild TensorFlow with the appropriate compiler flags.\n",
      "2022-01-29 10:34:25.374740: I tensorflow/core/common_runtime/process_util.cc:146] Creating new thread pool with default inter op setting: 2. Tune using inter_op_parallelism_threads for best performance.\n"
     ]
    }
   ],
   "source": [
    "model = create_model()\n",
    "model.load_weights('./saved-model/model_covid.h5')"
   ]
  },
  {
   "cell_type": "markdown",
   "id": "dcc2e30b",
   "metadata": {},
   "source": [
    "#### Get prediction based on Pre-Trained Model"
   ]
  },
  {
   "cell_type": "code",
   "execution_count": 7,
   "id": "2d4e697d",
   "metadata": {},
   "outputs": [
    {
     "name": "stderr",
     "output_type": "stream",
     "text": [
      "2022-01-29 10:34:26.177142: I tensorflow/compiler/mlir/mlir_graph_optimization_pass.cc:185] None of the MLIR Optimization Passes are enabled (registered 2)\n"
     ]
    },
    {
     "name": "stdout",
     "output_type": "stream",
     "text": [
      "1\n"
     ]
    }
   ],
   "source": [
    "classes = model.predict(X)\n",
    "selisih_to_0 = abs(0-classes[0][0])\n",
    "selisih_to_1 = abs(1-classes[0][0])\n",
    "if(min(selisih_to_0, selisih_to_1) == selisih_to_0):\n",
    "    print(0)\n",
    "else:\n",
    "    print(1)"
   ]
  },
  {
   "cell_type": "markdown",
   "id": "32a8aa7f",
   "metadata": {},
   "source": [
    "#### Value 1 means CoVid, value 0 means Non-CoVid"
   ]
  },
  {
   "cell_type": "code",
   "execution_count": 8,
   "id": "fb235d75",
   "metadata": {},
   "outputs": [
    {
     "name": "stdout",
     "output_type": "stream",
     "text": [
      "Covid\n"
     ]
    }
   ],
   "source": [
    "if(min(selisih_to_0, selisih_to_1) == selisih_to_0):\n",
    "    print(\"Non-Covid\")\n",
    "else:\n",
    "    print(\"Covid\")"
   ]
  },
  {
   "cell_type": "code",
   "execution_count": null,
   "id": "a4d84e64",
   "metadata": {},
   "outputs": [],
   "source": []
  }
 ],
 "metadata": {
  "kernelspec": {
   "display_name": "Python 3 (ipykernel)",
   "language": "python",
   "name": "python3"
  },
  "language_info": {
   "codemirror_mode": {
    "name": "ipython",
    "version": 3
   },
   "file_extension": ".py",
   "mimetype": "text/x-python",
   "name": "python",
   "nbconvert_exporter": "python",
   "pygments_lexer": "ipython3",
   "version": "3.9.7"
  }
 },
 "nbformat": 4,
 "nbformat_minor": 5
}
