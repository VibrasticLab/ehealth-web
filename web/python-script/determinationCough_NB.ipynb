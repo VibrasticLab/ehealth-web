{
 "cells": [
  {
   "cell_type": "markdown",
   "id": "067d5148",
   "metadata": {},
   "source": [
    "## Determine if the input Audio are Cough or Speech\n",
    "\n",
    "### Model trained by Abil"
   ]
  },
  {
   "cell_type": "code",
   "execution_count": 1,
   "id": "8e0c70d5",
   "metadata": {},
   "outputs": [],
   "source": [
    "import librosa as lb\n",
    "import numpy as np\n",
    "import tensorflow as tf\n",
    "from tensorflow import keras\n",
    "import time\n",
    "import sys"
   ]
  },
  {
   "cell_type": "markdown",
   "id": "bc94dc88",
   "metadata": {},
   "source": [
    "#### Load Audio Sample\n",
    "\n",
    "In server, the audio upload path is */usr/src/app/public/uploads/batuk/*\n",
    "\n",
    "But here using sample wav"
   ]
  },
  {
   "cell_type": "code",
   "execution_count": 2,
   "id": "17a437e4",
   "metadata": {},
   "outputs": [],
   "source": [
    "#sound, sample_rate = lb.load(\"out.wav\")\n",
    "sound, sample_rate = lb.load(\"covid_dataset/wav_normalized/0aa64689-c48a-421d-b353-c3496bad51ed.wav\")"
   ]
  },
  {
   "cell_type": "markdown",
   "id": "c76452c3",
   "metadata": {},
   "source": [
    "#### Get all audio parameter"
   ]
  },
  {
   "cell_type": "code",
   "execution_count": 3,
   "id": "10068524",
   "metadata": {},
   "outputs": [],
   "source": [
    "stft = np.abs(lb.stft(sound))  \n",
    "mfccs = np.mean(lb.feature.mfcc(y=sound, sr=sample_rate, n_mfcc=40),axis=1)\n",
    "chroma = np.mean(lb.feature.chroma_stft(S=stft, sr=sample_rate),axis=1)\n",
    "mel = np.mean(lb.feature.melspectrogram(sound, sr=sample_rate),axis=1)\n",
    "contrast = np.mean(lb.feature.spectral_contrast(S=stft, sr=sample_rate),axis=1)\n",
    "tonnetz = np.mean(lb.feature.tonnetz(y=lb.effects.harmonic(sound), sr=sample_rate),axis=1)\n",
    "concat = np.concatenate((mfccs,chroma,mel,contrast,tonnetz))"
   ]
  },
  {
   "cell_type": "markdown",
   "id": "9a4f5aa3",
   "metadata": {},
   "source": [
    "#### Pack all parameters in parameter image/array"
   ]
  },
  {
   "cell_type": "code",
   "execution_count": 4,
   "id": "96fa75ee",
   "metadata": {},
   "outputs": [],
   "source": [
    "images_tes = np.array(concat)\n",
    "images_tes = np.reshape(images_tes, (1, images_tes.shape[0], 1))"
   ]
  },
  {
   "cell_type": "markdown",
   "id": "54226772",
   "metadata": {},
   "source": [
    "#### Load Pre-Trained Neural Network Model"
   ]
  },
  {
   "cell_type": "code",
   "execution_count": 5,
   "id": "fda1d357",
   "metadata": {},
   "outputs": [
    {
     "name": "stderr",
     "output_type": "stream",
     "text": [
      "2022-01-29 10:34:52.298965: I tensorflow/core/platform/cpu_feature_guard.cc:142] This TensorFlow binary is optimized with oneAPI Deep Neural Network Library (oneDNN) to use the following CPU instructions in performance-critical operations:  SSE3 SSE4.1 SSE4.2 AVX\n",
      "To enable them in other operations, rebuild TensorFlow with the appropriate compiler flags.\n",
      "2022-01-29 10:34:52.299943: I tensorflow/core/common_runtime/process_util.cc:146] Creating new thread pool with default inter op setting: 2. Tune using inter_op_parallelism_threads for best performance.\n"
     ]
    }
   ],
   "source": [
    "model = keras.models.load_model(\"./saved-model/cough_01.h5\")"
   ]
  },
  {
   "cell_type": "markdown",
   "id": "2e7381af",
   "metadata": {},
   "source": [
    "#### Get prediction based on Pre-Trained Model"
   ]
  },
  {
   "cell_type": "code",
   "execution_count": 6,
   "id": "9a2fb948",
   "metadata": {},
   "outputs": [
    {
     "name": "stdout",
     "output_type": "stream",
     "text": [
      "0\n"
     ]
    },
    {
     "name": "stderr",
     "output_type": "stream",
     "text": [
      "2022-01-29 10:34:52.772507: I tensorflow/compiler/mlir/mlir_graph_optimization_pass.cc:185] None of the MLIR Optimization Passes are enabled (registered 2)\n"
     ]
    }
   ],
   "source": [
    "preds = model.predict(images_tes)\n",
    "classpreds = np.argmax(preds, axis=1)\n",
    "\n",
    "print(classpreds[0])"
   ]
  },
  {
   "cell_type": "markdown",
   "id": "eef7a275",
   "metadata": {},
   "source": [
    "#### Value 0 means Cough, value 1 means Speech"
   ]
  },
  {
   "cell_type": "code",
   "execution_count": 7,
   "id": "de742631",
   "metadata": {},
   "outputs": [
    {
     "name": "stdout",
     "output_type": "stream",
     "text": [
      "Cough\n"
     ]
    }
   ],
   "source": [
    "if classpreds[0] == 0:\n",
    "    print(\"Cough\")\n",
    "else:\n",
    "    print(\"Non-Cough\")"
   ]
  },
  {
   "cell_type": "code",
   "execution_count": null,
   "id": "4a58c686",
   "metadata": {},
   "outputs": [],
   "source": []
  }
 ],
 "metadata": {
  "kernelspec": {
   "display_name": "Python 3 (ipykernel)",
   "language": "python",
   "name": "python3"
  },
  "language_info": {
   "codemirror_mode": {
    "name": "ipython",
    "version": 3
   },
   "file_extension": ".py",
   "mimetype": "text/x-python",
   "name": "python",
   "nbconvert_exporter": "python",
   "pygments_lexer": "ipython3",
   "version": "3.9.7"
  }
 },
 "nbformat": 4,
 "nbformat_minor": 5
}
